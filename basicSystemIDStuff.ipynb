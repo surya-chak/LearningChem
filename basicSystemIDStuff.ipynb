{
  "nbformat": 4,
  "nbformat_minor": 0,
  "metadata": {
    "colab": {
      "name": "basicSystemIDStuff.ipynb",
      "provenance": [],
      "collapsed_sections": [],
      "include_colab_link": true
    },
    "kernelspec": {
      "name": "python3",
      "display_name": "Python 3"
    },
    "language_info": {
      "name": "python"
    },
    "widgets": {
      "application/vnd.jupyter.widget-state+json": {
        "4709bc4cf6bd40f0be7a4efd72693d7a": {
          "model_module": "@jupyter-widgets/controls",
          "model_name": "HBoxModel",
          "state": {
            "_view_name": "HBoxView",
            "_dom_classes": [],
            "_model_name": "HBoxModel",
            "_view_module": "@jupyter-widgets/controls",
            "_model_module_version": "1.5.0",
            "_view_count": null,
            "_view_module_version": "1.5.0",
            "box_style": "",
            "layout": "IPY_MODEL_729f0b7d2ee948c189d910869823698d",
            "_model_module": "@jupyter-widgets/controls",
            "children": [
              "IPY_MODEL_09ff629b7a204ae28c3021ac848326aa",
              "IPY_MODEL_95bebf6eb6d049d0b145d12faf17479a"
            ]
          }
        },
        "729f0b7d2ee948c189d910869823698d": {
          "model_module": "@jupyter-widgets/base",
          "model_name": "LayoutModel",
          "state": {
            "_view_name": "LayoutView",
            "grid_template_rows": null,
            "right": null,
            "justify_content": null,
            "_view_module": "@jupyter-widgets/base",
            "overflow": null,
            "_model_module_version": "1.2.0",
            "_view_count": null,
            "flex_flow": null,
            "width": null,
            "min_width": null,
            "border": null,
            "align_items": null,
            "bottom": null,
            "_model_module": "@jupyter-widgets/base",
            "top": null,
            "grid_column": null,
            "overflow_y": null,
            "overflow_x": null,
            "grid_auto_flow": null,
            "grid_area": null,
            "grid_template_columns": null,
            "flex": null,
            "_model_name": "LayoutModel",
            "justify_items": null,
            "grid_row": null,
            "max_height": null,
            "align_content": null,
            "visibility": null,
            "align_self": null,
            "height": null,
            "min_height": null,
            "padding": null,
            "grid_auto_rows": null,
            "grid_gap": null,
            "max_width": null,
            "order": null,
            "_view_module_version": "1.2.0",
            "grid_template_areas": null,
            "object_position": null,
            "object_fit": null,
            "grid_auto_columns": null,
            "margin": null,
            "display": null,
            "left": null
          }
        },
        "09ff629b7a204ae28c3021ac848326aa": {
          "model_module": "@jupyter-widgets/controls",
          "model_name": "FloatProgressModel",
          "state": {
            "_view_name": "ProgressView",
            "style": "IPY_MODEL_4aa0903e1277480999d833c16cbf7a77",
            "_dom_classes": [],
            "description": "100%",
            "_model_name": "FloatProgressModel",
            "bar_style": "success",
            "max": 25,
            "_view_module": "@jupyter-widgets/controls",
            "_model_module_version": "1.5.0",
            "value": 25,
            "_view_count": null,
            "_view_module_version": "1.5.0",
            "orientation": "horizontal",
            "min": 0,
            "description_tooltip": null,
            "_model_module": "@jupyter-widgets/controls",
            "layout": "IPY_MODEL_3358e8937c6c44e2aa297b22a0de9e53"
          }
        },
        "95bebf6eb6d049d0b145d12faf17479a": {
          "model_module": "@jupyter-widgets/controls",
          "model_name": "HTMLModel",
          "state": {
            "_view_name": "HTMLView",
            "style": "IPY_MODEL_2eeaa905283a4c84b3879a2ff13b8f55",
            "_dom_classes": [],
            "description": "",
            "_model_name": "HTMLModel",
            "placeholder": "​",
            "_view_module": "@jupyter-widgets/controls",
            "_model_module_version": "1.5.0",
            "value": " 25/25 [08:38&lt;00:00, 20.73s/it]",
            "_view_count": null,
            "_view_module_version": "1.5.0",
            "description_tooltip": null,
            "_model_module": "@jupyter-widgets/controls",
            "layout": "IPY_MODEL_614921dae10448c79cbecf83ea0141b5"
          }
        },
        "4aa0903e1277480999d833c16cbf7a77": {
          "model_module": "@jupyter-widgets/controls",
          "model_name": "ProgressStyleModel",
          "state": {
            "_view_name": "StyleView",
            "_model_name": "ProgressStyleModel",
            "description_width": "initial",
            "_view_module": "@jupyter-widgets/base",
            "_model_module_version": "1.5.0",
            "_view_count": null,
            "_view_module_version": "1.2.0",
            "bar_color": null,
            "_model_module": "@jupyter-widgets/controls"
          }
        },
        "3358e8937c6c44e2aa297b22a0de9e53": {
          "model_module": "@jupyter-widgets/base",
          "model_name": "LayoutModel",
          "state": {
            "_view_name": "LayoutView",
            "grid_template_rows": null,
            "right": null,
            "justify_content": null,
            "_view_module": "@jupyter-widgets/base",
            "overflow": null,
            "_model_module_version": "1.2.0",
            "_view_count": null,
            "flex_flow": null,
            "width": null,
            "min_width": null,
            "border": null,
            "align_items": null,
            "bottom": null,
            "_model_module": "@jupyter-widgets/base",
            "top": null,
            "grid_column": null,
            "overflow_y": null,
            "overflow_x": null,
            "grid_auto_flow": null,
            "grid_area": null,
            "grid_template_columns": null,
            "flex": null,
            "_model_name": "LayoutModel",
            "justify_items": null,
            "grid_row": null,
            "max_height": null,
            "align_content": null,
            "visibility": null,
            "align_self": null,
            "height": null,
            "min_height": null,
            "padding": null,
            "grid_auto_rows": null,
            "grid_gap": null,
            "max_width": null,
            "order": null,
            "_view_module_version": "1.2.0",
            "grid_template_areas": null,
            "object_position": null,
            "object_fit": null,
            "grid_auto_columns": null,
            "margin": null,
            "display": null,
            "left": null
          }
        },
        "2eeaa905283a4c84b3879a2ff13b8f55": {
          "model_module": "@jupyter-widgets/controls",
          "model_name": "DescriptionStyleModel",
          "state": {
            "_view_name": "StyleView",
            "_model_name": "DescriptionStyleModel",
            "description_width": "",
            "_view_module": "@jupyter-widgets/base",
            "_model_module_version": "1.5.0",
            "_view_count": null,
            "_view_module_version": "1.2.0",
            "_model_module": "@jupyter-widgets/controls"
          }
        },
        "614921dae10448c79cbecf83ea0141b5": {
          "model_module": "@jupyter-widgets/base",
          "model_name": "LayoutModel",
          "state": {
            "_view_name": "LayoutView",
            "grid_template_rows": null,
            "right": null,
            "justify_content": null,
            "_view_module": "@jupyter-widgets/base",
            "overflow": null,
            "_model_module_version": "1.2.0",
            "_view_count": null,
            "flex_flow": null,
            "width": null,
            "min_width": null,
            "border": null,
            "align_items": null,
            "bottom": null,
            "_model_module": "@jupyter-widgets/base",
            "top": null,
            "grid_column": null,
            "overflow_y": null,
            "overflow_x": null,
            "grid_auto_flow": null,
            "grid_area": null,
            "grid_template_columns": null,
            "flex": null,
            "_model_name": "LayoutModel",
            "justify_items": null,
            "grid_row": null,
            "max_height": null,
            "align_content": null,
            "visibility": null,
            "align_self": null,
            "height": null,
            "min_height": null,
            "padding": null,
            "grid_auto_rows": null,
            "grid_gap": null,
            "max_width": null,
            "order": null,
            "_view_module_version": "1.2.0",
            "grid_template_areas": null,
            "object_position": null,
            "object_fit": null,
            "grid_auto_columns": null,
            "margin": null,
            "display": null,
            "left": null
          }
        }
      }
    }
  },
  "cells": [
    {
      "cell_type": "markdown",
      "metadata": {
        "id": "view-in-github",
        "colab_type": "text"
      },
      "source": [
        "<a href=\"https://colab.research.google.com/github/surya-chak/LearningChem/blob/master/basicSystemIDStuff.ipynb\" target=\"_parent\"><img src=\"https://colab.research.google.com/assets/colab-badge.svg\" alt=\"Open In Colab\"/></a>"
      ]
    },
    {
      "cell_type": "markdown",
      "metadata": {
        "id": "zvqY22_TC8fP"
      },
      "source": [
        "# System ID part\n",
        "Todo: \n",
        "- [x] Run a basic system ID code and try to learn parameters using gradient descent\n",
        "- [x] Enable batched optimization to learn from all instance files simultaneously\n",
        "- [ ] Incorporate differentiable ODE solver to improve ODE solution and thereafter optimize system params\n",
        "- [ ] Incorporate implicit bias over system parameters so as to respect the conditions about non-zero and sign of parameters across different systems"
      ]
    },
    {
      "cell_type": "markdown",
      "metadata": {
        "id": "P3ck-OkIBVzN"
      },
      "source": [
        "## Importing libraries and Git repo"
      ]
    },
    {
      "cell_type": "code",
      "metadata": {
        "colab": {
          "base_uri": "https://localhost:8080/"
        },
        "id": "lrn7xRQtItKJ",
        "outputId": "205b8e5f-bbc5-428c-b48f-bdde869b8ced"
      },
      "source": [
        "!git clone https://github.com/surya-chak/LearningChem.git"
      ],
      "execution_count": null,
      "outputs": [
        {
          "output_type": "stream",
          "text": [
            "Cloning into 'LearningChem'...\n",
            "remote: Enumerating objects: 252, done.\u001b[K\n",
            "remote: Counting objects: 100% (252/252), done.\u001b[K\n",
            "remote: Compressing objects: 100% (251/251), done.\u001b[K\n",
            "remote: Total 252 (delta 0), reused 252 (delta 0), pack-reused 0\u001b[K\n",
            "Receiving objects: 100% (252/252), 402.55 KiB | 9.15 MiB/s, done.\n"
          ],
          "name": "stdout"
        }
      ]
    },
    {
      "cell_type": "code",
      "metadata": {
        "id": "n6uarTMgJYl6"
      },
      "source": [
        "import numpy as np\n",
        "import pandas as pd\n",
        "import os, glob\n",
        "import torch\n",
        "import torch.nn as nn\n",
        "import torch.optim as optim\n",
        "import matplotlib.pyplot as plt\n",
        "from tqdm.notebook import tqdm"
      ],
      "execution_count": null,
      "outputs": []
    },
    {
      "cell_type": "markdown",
      "metadata": {
        "id": "Tillp8b2Bad3"
      },
      "source": [
        "## Loading data from csv"
      ]
    },
    {
      "cell_type": "code",
      "metadata": {
        "id": "vihGHjpAKlIn"
      },
      "source": [
        "def load_from_csv(system_id):\n",
        "  files = glob.glob(os.path.join('LearningChem','public_data','system_{}*'.format(system_id,instance_id)))\n",
        "  X_all = []\n",
        "  T_all = []\n",
        "  Y_all = []\n",
        "  U_all = []\n",
        "  for file in files: \n",
        "    df = pd.read_csv(file)\n",
        "    X = []\n",
        "    T = []\n",
        "    Y = []\n",
        "    U = []\n",
        "    for k,row in df.iterrows():\n",
        "      X.append(row[['X{}'.format(k) for k in range(1,15)]].values)\n",
        "      T.append(row['t'])\n",
        "      Y.append(row['Y'])\n",
        "      U.append(row[['U{}'.format(k) for k in range(1,9)]].values)\n",
        "    U = U[0]\n",
        "    X_all.append(X)\n",
        "    T_all.append(T)\n",
        "    Y_all.append(Y)\n",
        "    U_all.append(U)\n",
        "  return np.array(T_all,dtype=np.float),np.array(Y_all,dtype=np.float),np.array(X_all,dtype=np.float),np.array(U_all,dtype=np.float)"
      ],
      "execution_count": null,
      "outputs": []
    },
    {
      "cell_type": "code",
      "metadata": {
        "colab": {
          "base_uri": "https://localhost:8080/"
        },
        "id": "1jFB8t5vJeJK",
        "outputId": "fe6fd3bb-4ef3-4f1c-d587-a322c6c6c967"
      },
      "source": [
        "system_id = '01'\n",
        "# instance_id='00'\n",
        "T,Y,X,U = load_from_csv(system_id=system_id)\n",
        "print(T.shape,Y.shape,X.shape,U.shape)\n",
        "# del_T = np.diff(T)\n",
        "# print(del_T)\n",
        "# print(U)"
      ],
      "execution_count": null,
      "outputs": [
        {
          "output_type": "stream",
          "text": [
            "(20, 20) (20, 20) (20, 20, 14) (20, 8)\n"
          ],
          "name": "stdout"
        }
      ]
    },
    {
      "cell_type": "markdown",
      "metadata": {
        "id": "wWMPMRVfBeaO"
      },
      "source": [
        "## Training a neural network parameterization of system"
      ]
    },
    {
      "cell_type": "markdown",
      "metadata": {
        "id": "BnRWp-k5Biue"
      },
      "source": [
        "### System forward definition"
      ]
    },
    {
      "cell_type": "code",
      "metadata": {
        "colab": {
          "base_uri": "https://localhost:8080/"
        },
        "id": "UH3Es_pyf_x3",
        "outputId": "fefe833f-7acc-4723-876e-cd26ac6ed19e"
      },
      "source": [
        "class System_F(nn.Module):\n",
        "  def __init__(self,system_id,state_dim=15,inp_dim=8):\n",
        "    super().__init__()\n",
        "    self.system_id = system_id\n",
        "    self.state_dim = state_dim\n",
        "    self.inp_dim = inp_dim\n",
        "    self.linear_NN = nn.Linear(in_features=self.state_dim,out_features=self.state_dim,bias=False)\n",
        "    self.quadratic_NN = nn.Linear(in_features=self.state_dim**2,out_features=self.state_dim,bias=False)\n",
        "    self.input_NN = nn.Linear(in_features=self.inp_dim,out_features=self.state_dim,bias=False)\n",
        "\n",
        "  def forward(self,X,U=None):\n",
        "    device = next(self.parameters()).device\n",
        "    if U is None:\n",
        "      U = torch.zeros(X.shape[0],self.inp_dim)\n",
        "    assert X.shape[0]==U.shape[0], \"Batch size should be same for X ({}) and U ({})\".format(X.shape[0],U.shape[0])\n",
        "    X = X.to(device)\n",
        "    U = U.to(device)\n",
        "    linear_out = self.linear_NN(X)\n",
        "    quadratic_inp = X.unsqueeze(-1)*X.unsqueeze(-2)\n",
        "    quadratic_out = self.quadratic_NN(quadratic_inp.view(X.shape[0],-1))\n",
        "    inp_out = self.input_NN(U)\n",
        "    return linear_out+quadratic_out\n",
        "\n",
        "F1 = System_F(system_id=1)\n",
        "X = torch.rand(2,15)\n",
        "U = torch.rand(2,8)\n",
        "with torch.no_grad():\n",
        "  out = F1(X,U)\n",
        "print(out.shape)"
      ],
      "execution_count": null,
      "outputs": [
        {
          "output_type": "stream",
          "text": [
            "torch.Size([2, 15])\n"
          ],
          "name": "stdout"
        }
      ]
    },
    {
      "cell_type": "markdown",
      "metadata": {
        "id": "VUgoJvwsBlo8"
      },
      "source": [
        "### Training on all instances of a system"
      ]
    },
    {
      "cell_type": "code",
      "metadata": {
        "colab": {
          "base_uri": "https://localhost:8080/",
          "height": 385,
          "referenced_widgets": [
            "4709bc4cf6bd40f0be7a4efd72693d7a",
            "729f0b7d2ee948c189d910869823698d",
            "09ff629b7a204ae28c3021ac848326aa",
            "95bebf6eb6d049d0b145d12faf17479a",
            "4aa0903e1277480999d833c16cbf7a77",
            "3358e8937c6c44e2aa297b22a0de9e53",
            "2eeaa905283a4c84b3879a2ff13b8f55",
            "614921dae10448c79cbecf83ea0141b5"
          ]
        },
        "id": "F9o05h0GoQNu",
        "outputId": "7ca3b2f6-ac16-4ea2-a3fa-616eadbb507c"
      },
      "source": [
        "system_id = '01'\n",
        "# instance_id = '00'\n",
        "T,Y,X,U = load_from_csv(system_id=system_id)\n",
        "print(\"T:{},Y:{},X:{},U:{}\".format(T.shape,Y.shape,X.shape,U.shape))\n",
        "use_cuda = torch.cuda.is_available()\n",
        "device = torch.device(\"cuda:0\" if use_cuda else \"cpu\")\n",
        "model = System_F(system_id=system_id)\n",
        "loss_func = torch.nn.MSELoss()\n",
        "optimizer = torch.optim.Adam(model.parameters(),1e-3)\n",
        "sampling_dt = 0.001\n",
        "epochs = 25\n",
        "loss_arr = []\n",
        "idx_arr = []\n",
        "for epoch in tqdm(range(epochs)):\n",
        "  current_time = 0.0\n",
        "  loss_epoch = 0\n",
        "  model.train()\n",
        "  optimizer.zero_grad()\n",
        "  for idx in range(T.shape[1]-1):\n",
        "    t = T[0,idx]\n",
        "    y = torch.Tensor(Y[:,idx]).unsqueeze(-1)\n",
        "    x = torch.Tensor(X[:,idx])\n",
        "    # print(y.shape,x.shape)\n",
        "    state_vec = torch.hstack((y,x))\n",
        "    if idx<3:\n",
        "      u = torch.Tensor(U)\n",
        "    else:\n",
        "      u = None\n",
        "    # print(state_vec.shape,u.shape)\n",
        "    # break\n",
        "    x_system = state_vec\n",
        "    while current_time<T[0,idx+1]:\n",
        "      x_system = x_system + model(x_system,u)*sampling_dt\n",
        "      current_time += sampling_dt\n",
        "      # print(current_time)\n",
        "    target_vec = torch.hstack((torch.Tensor(Y[:,idx+1]).unsqueeze(-1),torch.Tensor(X[:,idx+1])))\n",
        "    loss = loss_func(x_system,target_vec)\n",
        "    # print(x_system.data,target_vec.data)\n",
        "    if np.isnan(loss.item()):\n",
        "      break\n",
        "    loss_epoch+= loss.item()\n",
        "    # print(idx,loss)\n",
        "    loss.backward()\n",
        "    nn.utils.clip_grad_norm_(model.parameters(),100)\n",
        "    optimizer.step()\n",
        "    optimizer.zero_grad()\n",
        "  loss_arr.append(loss_epoch)\n",
        "  idx_arr.append(idx)\n",
        "  # print(epoch,loss_arr)\n",
        "\n",
        "plt.plot(loss_arr)\n",
        "print(loss_arr)\n",
        "print(idx_arr)"
      ],
      "execution_count": null,
      "outputs": [
        {
          "output_type": "stream",
          "text": [
            "T:(20, 20),Y:(20, 20),X:(20, 20, 14),U:(20, 8)\n"
          ],
          "name": "stdout"
        },
        {
          "output_type": "display_data",
          "data": {
            "application/vnd.jupyter.widget-view+json": {
              "model_id": "4709bc4cf6bd40f0be7a4efd72693d7a",
              "version_minor": 0,
              "version_major": 2
            },
            "text/plain": [
              "HBox(children=(FloatProgress(value=0.0, max=25.0), HTML(value='')))"
            ]
          },
          "metadata": {
            "tags": []
          }
        },
        {
          "output_type": "stream",
          "text": [
            "\n",
            "[7.661186192184687, 16.36952133476734, 5.503786139190197, 6.170974858105183, 4.919108957052231, 4.269439358264208, 3.796749383211136, 3.9412564747035503, 3.530412334948778, 3.798909652978182, 2.821563981473446, 2.443360272794962, 2.4563036113977432, 2.430880356580019, 2.619199261069298, 1.9804016426205635, 2.7062458842992783, 2.933468423783779, 3.243971351534128, 3.774737849831581, 3.877307627350092, 3.157635785639286, 3.4617717936635017, 2.82141524925828, 3.2296166829764843]\n",
            "[12, 15, 16, 18, 18, 18, 18, 18, 18, 18, 18, 18, 18, 18, 18, 17, 18, 18, 18, 18, 18, 18, 18, 18, 18]\n"
          ],
          "name": "stdout"
        },
        {
          "output_type": "display_data",
          "data": {
            "image/png": "[encoded data removed]",
            "text/plain": [
              "<Figure size 432x288 with 1 Axes>"
            ]
          },
          "metadata": {
            "tags": [],
            "needs_background": "light"
          }
        }
      ]
    },
    {
      "cell_type": "markdown",
      "metadata": {
        "id": "YjyZcRUOBous"
      },
      "source": [
        "## Incorporate torchdiffeq to improve ODE solver\n",
        "Todo: \n",
        "- [ ] Incorporate [torchdiffeq](https://github.com/rtqichen/torchdiffeq) repo to get solution to ODE\n",
        "- [ ] Propagate gradients through the ODE solver to update system parameters\n",
        "- [ ] Incorporate the shared system characteristics across different systems"
      ]
    },
    {
      "cell_type": "markdown",
      "metadata": {
        "id": "XOh-zJCICSJe"
      },
      "source": [
        "# RL part\n",
        "Todo: \n",
        "- [ ] Use the learned system parameters to optimize input: gradient-based optimization to minimize the loss (eq. 10 in whitepaper)\n",
        "- [ ] Look into the formulation of [Information Theoretic MPC paper](https://homes.cs.washington.edu/~bboots/files/InformationTheoreticMPC.pdf) and try to draw some parallels to this problem"
      ]
    }
  ]
}